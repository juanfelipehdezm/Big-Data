{
 "cells": [
  {
   "cell_type": "code",
   "execution_count": 20,
   "metadata": {},
   "outputs": [],
   "source": [
    "import pyspark\n",
    "from pyspark.sql.session import SparkSession\n",
    "from pyspark.sql.context import SQLContext\n",
    "from pyspark.sql.types import StructType, StructField, StringType, IntegerType"
   ]
  },
  {
   "cell_type": "code",
   "execution_count": 21,
   "metadata": {},
   "outputs": [
    {
     "name": "stderr",
     "output_type": "stream",
     "text": [
      "C:\\Users\\pipem\\anaconda3\\envs\\env\\lib\\site-packages\\pyspark\\sql\\context.py:77: FutureWarning: Deprecated in 3.0.0. Use SparkSession.builder.getOrCreate() instead.\n",
      "  warnings.warn(\n"
     ]
    }
   ],
   "source": [
    "spark = SparkSession.builder.appName(\"practise\").getOrCreate()\n",
    "sqlContext = SQLContext(spark)"
   ]
  },
  {
   "cell_type": "code",
   "execution_count": 22,
   "metadata": {},
   "outputs": [],
   "source": [
    "#schema for the data\n",
    "schema = StructType([StructField(\"Id\", IntegerType(), True),\n",
    "                     StructField(\"title\", StringType(), True),\n",
    "                     StructField(\"genres\", StringType(), True)])"
   ]
  },
  {
   "cell_type": "code",
   "execution_count": 23,
   "metadata": {},
   "outputs": [
    {
     "name": "stdout",
     "output_type": "stream",
     "text": [
      "+---+--------------------+--------------------+\n",
      "| Id|               title|              genres|\n",
      "+---+--------------------+--------------------+\n",
      "|  1|    Toy Story (1995)|Adventure|Animati...|\n",
      "|  2|      Jumanji (1995)|Adventure|Childre...|\n",
      "|  3|Grumpier Old Men ...|      Comedy|Romance|\n",
      "|  4|Waiting to Exhale...|Comedy|Drama|Romance|\n",
      "|  5|Father of the Bri...|              Comedy|\n",
      "|  6|         Heat (1995)|Action|Crime|Thri...|\n",
      "|  7|      Sabrina (1995)|      Comedy|Romance|\n",
      "|  8| Tom and Huck (1995)|  Adventure|Children|\n",
      "|  9| Sudden Death (1995)|              Action|\n",
      "| 10|    GoldenEye (1995)|Action|Adventure|...|\n",
      "| 11|American Presiden...|Comedy|Drama|Romance|\n",
      "| 12|Dracula: Dead and...|       Comedy|Horror|\n",
      "| 13|        Balto (1995)|Adventure|Animati...|\n",
      "| 14|        Nixon (1995)|               Drama|\n",
      "| 15|Cutthroat Island ...|Action|Adventure|...|\n",
      "| 16|       Casino (1995)|         Crime|Drama|\n",
      "| 17|Sense and Sensibi...|       Drama|Romance|\n",
      "| 18|   Four Rooms (1995)|              Comedy|\n",
      "| 19|Ace Ventura: When...|              Comedy|\n",
      "| 20|  Money Train (1995)|Action|Comedy|Cri...|\n",
      "+---+--------------------+--------------------+\n",
      "only showing top 20 rows\n",
      "\n"
     ]
    }
   ],
   "source": [
    "moviesDF = sqlContext.read.csv(\"G://Mi unidad//Big data//Spark//Advance_spark//movies.csv\",header=True, schema=schema)\n",
    "moviesDF.show()"
   ]
  },
  {
   "cell_type": "code",
   "execution_count": 24,
   "metadata": {},
   "outputs": [
    {
     "name": "stdout",
     "output_type": "stream",
     "text": [
      "root\n",
      " |-- Id: integer (nullable = true)\n",
      " |-- title: string (nullable = true)\n",
      " |-- genres: string (nullable = true)\n",
      "\n"
     ]
    }
   ],
   "source": [
    "moviesDF.printSchema()"
   ]
  }
 ],
 "metadata": {
  "interpreter": {
   "hash": "847ca461a580f1d0e6722cb3dab9ad46961c2805e434f2869989e0e23e24d90e"
  },
  "kernelspec": {
   "display_name": "Python 3.9.4 ('env')",
   "language": "python",
   "name": "python3"
  },
  "language_info": {
   "codemirror_mode": {
    "name": "ipython",
    "version": 3
   },
   "file_extension": ".py",
   "mimetype": "text/x-python",
   "name": "python",
   "nbconvert_exporter": "python",
   "pygments_lexer": "ipython3",
   "version": "3.9.4"
  },
  "orig_nbformat": 4
 },
 "nbformat": 4,
 "nbformat_minor": 2
}
